{
 "cells": [
  {
   "cell_type": "markdown",
   "metadata": {},
   "source": [
    "Data Preparation"
   ]
  },
  {
   "cell_type": "code",
   "execution_count": 9,
   "metadata": {},
   "outputs": [],
   "source": [
    "import pandas as pd\n",
    "import numpy as np"
   ]
  },
  {
   "cell_type": "markdown",
   "metadata": {},
   "source": [
    "# List of variables"
   ]
  },
  {
   "cell_type": "markdown",
   "metadata": {},
   "source": [
    "## **Identification variables**\n",
    "cid: Original household number \\\n",
    "hid: Current wave household number \\\n",
    "pid: Person ID \\\n",
    "syear: Survey year         \n"
   ]
  },
  {
   "cell_type": "code",
   "execution_count": 10,
   "metadata": {},
   "outputs": [],
   "source": [
    "ids = [\"pid\", \"cid\", \"hid\"]"
   ]
  },
  {
   "cell_type": "markdown",
   "metadata": {},
   "source": [
    "\n",
    "## **Attitudes toward refugees** \n",
    "plj0433: Is it generally good or bad for the German economy that refugees are coming here? \\\n",
    "plj0434: Will refugees erode or enrich cultural life in Germany? \\\n",
    "plj0435: Will Germany become a better or worse place to live because of the refugees?"
   ]
  },
  {
   "cell_type": "code",
   "execution_count": 11,
   "metadata": {},
   "outputs": [],
   "source": [
    "attitudes_refugees = [\"plj0433\", \"plj0434\", \"plj0435\"] "
   ]
  },
  {
   "cell_type": "markdown",
   "metadata": {},
   "source": [
    "## **Satisfaction** \n",
    "\n",
    "plh0182: Current life satisfaction \\\n",
    "plh0176: Satisfaction with personal income "
   ]
  },
  {
   "cell_type": "code",
   "execution_count": 12,
   "metadata": {},
   "outputs": [],
   "source": [
    "satisfaction = [\"plh0182\", \"plh0176\"]"
   ]
  },
  {
   "cell_type": "markdown",
   "metadata": {},
   "source": [
    "## **Conerns**\n",
    "\n",
    "plh0032: Worried about economic development \\\n",
    "plh0033: Worried about finances \\\n",
    "plh0335: Worried about own retirement pension \\\n",
    "plh0336 Worried about cohesion in society \\\n",
    "plh0038: Worried about peace \\\n",
    "plh0040: Worried about crime in Germany \\\n",
    "plj0046: Worried about immigration to Germany \\\n",
    "plj0047: Worried about hostility to foreigners "
   ]
  },
  {
   "cell_type": "code",
   "execution_count": 13,
   "metadata": {},
   "outputs": [],
   "source": [
    "worries = [\"plh0032\", \"plh0033\", \"plh0335\", \"plh0336\", \"plh0038\", \"plh0040\", \"plj0046\", \"plj0047\"]"
   ]
  },
  {
   "cell_type": "markdown",
   "metadata": {},
   "source": [
    "## **Demo**\n",
    "gebjahr: year of birth \\\n",
    "sex: gender \\\n",
    "bula_h: fedral state \\\n",
    "bula_ew: state east vs. west \\\n",
    "plb0471_v2: Wages or salary gross amount/month 2018 in euros \\\n",
    "migback: migration background \\\n",
    "pgemplst: empolyment status \\\n",
    "pgbilzeit: amount of educational year "
   ]
  },
  {
   "cell_type": "code",
   "execution_count": 14,
   "metadata": {},
   "outputs": [],
   "source": [
    "income = [\"plb0471_v2\"]\n",
    "demo = [\"pid\", \"gebjahr\", \"sex\", \"migback\"]\n",
    "fs = [\"bula_ew\", \"bula_h\"]\n",
    "edu_emp = [\"pid\", \"pgemplst\", \"pgbilzeit\"]\n",
    "politics = [\"plh0333\"]"
   ]
  },
  {
   "cell_type": "markdown",
   "metadata": {},
   "source": [
    "## **Personality traits**\n",
    "### Conscientiousness\n",
    "plh0212: Thorough worker \\\n",
    "plh0218: Tend to be lazy \\\n",
    "plh0222: Carry out tasks efficiently \n",
    "\n",
    "### Extraversion\n",
    "plh0213: Am communicative \\\n",
    "plh0219: Am sociable \\\n",
    "plh0223: Reserved \n",
    "\n",
    "### Agreeableness\n",
    "plh0214: Am sometimes too coarse with others \\\n",
    "plh0217: Able to forgive \\\n",
    "plh0224: Friendly with others \n",
    "\n",
    "### Openness\n",
    "plh0215: Am original \\\n",
    "plh0220: Value artistic experiences \\\n",
    "plh0225: Have lively imagination \n",
    "\n",
    "\n",
    "### Neuroticism\n",
    "plh0216: Worry a lot \\\n",
    "plh0221: Somewhat nervous \\\n",
    "plh0226: Deal well with stress \n"
   ]
  },
  {
   "cell_type": "code",
   "execution_count": 15,
   "metadata": {},
   "outputs": [],
   "source": [
    "big_5 = [\"plh0212\", \"plh0213\", \"plh0214\", \"plh0215\", \"plh0216\", \"plh0217\", \"plh0218\",\n",
    "         \"plh0219\", \"plh0220\", \"plh0221\", \"plh0222\", \"plh0223\", \"plh0224\", \"plh0225\", \"plh0226\"]"
   ]
  },
  {
   "cell_type": "markdown",
   "metadata": {},
   "source": [
    "# Read from pl.dta"
   ]
  },
  {
   "cell_type": "code",
   "execution_count": 16,
   "metadata": {},
   "outputs": [],
   "source": [
    "main_var = ids + attitudes_refugees + satisfaction + worries + income + politics + [\"plj0014_v3\"]"
   ]
  },
  {
   "cell_type": "code",
   "execution_count": 17,
   "metadata": {},
   "outputs": [],
   "source": [
    "pers = [\"pid\", \"plh0212\", \"plh0213\", \"plh0214\", \"plh0215\", \"plh0216\", \"plh0217\", \"plh0218\",\n",
    "         \"plh0219\", \"plh0220\", \"plh0221\", \"plh0222\", \"plh0223\", \"plh0224\", \"plh0225\", \"plh0226\"]"
   ]
  },
  {
   "cell_type": "code",
   "execution_count": 18,
   "metadata": {},
   "outputs": [],
   "source": [
    "df = pd.read_stata(\"pl.dta\", convert_categoricals = False)"
   ]
  },
  {
   "cell_type": "code",
   "execution_count": 19,
   "metadata": {},
   "outputs": [
    {
     "data": {
      "text/plain": [
       "True"
      ]
     },
     "execution_count": 19,
     "metadata": {},
     "output_type": "execute_result"
    }
   ],
   "source": [
    "\"plj0014_v3\" in df.columns"
   ]
  },
  {
   "cell_type": "code",
   "execution_count": 20,
   "metadata": {},
   "outputs": [
    {
     "data": {
      "text/plain": [
       " 1    488848\n",
       "-8    145677\n",
       " 2     58502\n",
       "-5     19325\n",
       "-1         3\n",
       "Name: plj0014_v3, dtype: int64"
      ]
     },
     "execution_count": 20,
     "metadata": {},
     "output_type": "execute_result"
    }
   ],
   "source": [
    "df[\"plj0014_v3\"].value_counts()"
   ]
  },
  {
   "cell_type": "code",
   "execution_count": 21,
   "metadata": {},
   "outputs": [],
   "source": [
    "# Data of 2016\n",
    "df_16 = df[df.syear == 2016]"
   ]
  },
  {
   "cell_type": "code",
   "execution_count": 22,
   "metadata": {},
   "outputs": [],
   "source": [
    "# Main variables 2016\n",
    "df_pl_16 = df_16[main_var]"
   ]
  },
  {
   "cell_type": "code",
   "execution_count": 23,
   "metadata": {},
   "outputs": [
    {
     "data": {
      "text/plain": [
       "(29116, 19)"
      ]
     },
     "execution_count": 23,
     "metadata": {},
     "output_type": "execute_result"
    }
   ],
   "source": [
    "df_pl_16.shape"
   ]
  },
  {
   "cell_type": "code",
   "execution_count": 24,
   "metadata": {},
   "outputs": [],
   "source": [
    "# Data of 2017\n",
    "df_17 = df[df.syear == 2017]"
   ]
  },
  {
   "cell_type": "code",
   "execution_count": 25,
   "metadata": {},
   "outputs": [],
   "source": [
    "# Personality traits\n",
    "df_pl_pers_17 = df_17[pers]"
   ]
  },
  {
   "cell_type": "code",
   "execution_count": 26,
   "metadata": {},
   "outputs": [
    {
     "data": {
      "text/plain": [
       "(32485, 16)"
      ]
     },
     "execution_count": 26,
     "metadata": {},
     "output_type": "execute_result"
    }
   ],
   "source": [
    "df_pl_pers_17.shape"
   ]
  },
  {
   "cell_type": "code",
   "execution_count": 27,
   "metadata": {},
   "outputs": [],
   "source": [
    "data = df_pl_16.merge(df_pl_pers_17, how = \"inner\", on= \"pid\") "
   ]
  },
  {
   "cell_type": "code",
   "execution_count": 28,
   "metadata": {},
   "outputs": [
    {
     "data": {
      "text/plain": [
       "(23995, 34)"
      ]
     },
     "execution_count": 28,
     "metadata": {},
     "output_type": "execute_result"
    }
   ],
   "source": [
    "data.shape # 26497 vs. 23995 in 2016"
   ]
  },
  {
   "cell_type": "code",
   "execution_count": 29,
   "metadata": {},
   "outputs": [],
   "source": [
    "data = data.replace(-1, np.NaN)\n",
    "data = data.replace(-2, np.NaN)\n",
    "data = data.replace(-3, np.NaN)\n",
    "data = data.replace(-4, np.NaN)\n",
    "data = data.replace(-5, np.NaN)"
   ]
  },
  {
   "cell_type": "code",
   "execution_count": 30,
   "metadata": {},
   "outputs": [
    {
     "name": "stdout",
     "output_type": "stream",
     "text": [
      "<class 'pandas.core.frame.DataFrame'>\n",
      "Int64Index: 23995 entries, 0 to 23994\n",
      "Data columns (total 34 columns):\n",
      " #   Column      Non-Null Count  Dtype  \n",
      "---  ------      --------------  -----  \n",
      " 0   pid         23995 non-null  int32  \n",
      " 1   cid         23995 non-null  int32  \n",
      " 2   hid         23995 non-null  int32  \n",
      " 3   plj0433     21048 non-null  float64\n",
      " 4   plj0434     21048 non-null  float64\n",
      " 5   plj0435     21040 non-null  float64\n",
      " 6   plh0182     23877 non-null  float64\n",
      " 7   plh0176     20997 non-null  float64\n",
      " 8   plh0032     21198 non-null  float64\n",
      " 9   plh0033     23889 non-null  float64\n",
      " 10  plh0335     21205 non-null  float64\n",
      " 11  plh0336     21159 non-null  float64\n",
      " 12  plh0038     21229 non-null  float64\n",
      " 13  plh0040     21225 non-null  float64\n",
      " 14  plj0046     21205 non-null  float64\n",
      " 15  plj0047     23829 non-null  float64\n",
      " 16  plb0471_v2  11094 non-null  float64\n",
      " 17  plh0333     23995 non-null  int8   \n",
      " 18  plj0014_v3  21365 non-null  float64\n",
      " 19  plh0212     23863 non-null  float64\n",
      " 20  plh0213     23946 non-null  float64\n",
      " 21  plh0214     23917 non-null  float64\n",
      " 22  plh0215     23854 non-null  float64\n",
      " 23  plh0216     23936 non-null  float64\n",
      " 24  plh0217     23929 non-null  float64\n",
      " 25  plh0218     23907 non-null  float64\n",
      " 26  plh0219     23916 non-null  float64\n",
      " 27  plh0220     23679 non-null  float64\n",
      " 28  plh0221     23929 non-null  float64\n",
      " 29  plh0222     23865 non-null  float64\n",
      " 30  plh0223     23837 non-null  float64\n",
      " 31  plh0224     23927 non-null  float64\n",
      " 32  plh0225     23839 non-null  float64\n",
      " 33  plh0226     23915 non-null  float64\n",
      "dtypes: float64(30), int32(3), int8(1)\n",
      "memory usage: 6.0 MB\n"
     ]
    }
   ],
   "source": [
    "data.info()"
   ]
  },
  {
   "cell_type": "code",
   "execution_count": 31,
   "metadata": {},
   "outputs": [],
   "source": [
    "#data.to_csv(\"finalNotClean2016Plt.csv\")"
   ]
  },
  {
   "cell_type": "markdown",
   "metadata": {},
   "source": [
    "# Read from ppathl.dta to get demo items"
   ]
  },
  {
   "cell_type": "code",
   "execution_count": 32,
   "metadata": {},
   "outputs": [],
   "source": [
    "demo = [\"pid\", \"gebjahr\", \"sex\", \"migback\"]\n",
    "df_1 = pd.read_stata(\"ppathl.dta\", convert_categoricals = False)"
   ]
  },
  {
   "cell_type": "code",
   "execution_count": 33,
   "metadata": {},
   "outputs": [],
   "source": [
    "df_demo_16 = df_1[df_1.syear == 2016]"
   ]
  },
  {
   "cell_type": "code",
   "execution_count": 34,
   "metadata": {},
   "outputs": [],
   "source": [
    "df_demo_16 = df_demo_16[demo]"
   ]
  },
  {
   "cell_type": "code",
   "execution_count": 35,
   "metadata": {},
   "outputs": [
    {
     "data": {
      "text/plain": [
       "(57287, 4)"
      ]
     },
     "execution_count": 35,
     "metadata": {},
     "output_type": "execute_result"
    }
   ],
   "source": [
    "df_demo_16.shape"
   ]
  },
  {
   "cell_type": "code",
   "execution_count": 36,
   "metadata": {},
   "outputs": [],
   "source": [
    "data_demo = data.merge(df_demo_16, how = \"inner\", on= \"pid\") "
   ]
  },
  {
   "cell_type": "code",
   "execution_count": 37,
   "metadata": {},
   "outputs": [
    {
     "data": {
      "text/plain": [
       "(23995, 37)"
      ]
     },
     "execution_count": 37,
     "metadata": {},
     "output_type": "execute_result"
    }
   ],
   "source": [
    "data_demo.shape"
   ]
  },
  {
   "cell_type": "code",
   "execution_count": 38,
   "metadata": {},
   "outputs": [],
   "source": [
    "data_demo = data_demo.replace(-1, np.NaN)\n",
    "data_demo = data_demo.replace(-2, np.NaN)\n",
    "data_demo = data_demo.replace(-3, np.NaN)\n",
    "data_demo = data_demo.replace(-4, np.NaN)\n",
    "data_demo = data_demo.replace(-5, np.NaN)"
   ]
  },
  {
   "cell_type": "code",
   "execution_count": 39,
   "metadata": {},
   "outputs": [
    {
     "name": "stdout",
     "output_type": "stream",
     "text": [
      "<class 'pandas.core.frame.DataFrame'>\n",
      "Int64Index: 23995 entries, 0 to 23994\n",
      "Data columns (total 37 columns):\n",
      " #   Column      Non-Null Count  Dtype  \n",
      "---  ------      --------------  -----  \n",
      " 0   pid         23995 non-null  int32  \n",
      " 1   cid         23995 non-null  int32  \n",
      " 2   hid         23995 non-null  int32  \n",
      " 3   plj0433     21048 non-null  float64\n",
      " 4   plj0434     21048 non-null  float64\n",
      " 5   plj0435     21040 non-null  float64\n",
      " 6   plh0182     23877 non-null  float64\n",
      " 7   plh0176     20997 non-null  float64\n",
      " 8   plh0032     21198 non-null  float64\n",
      " 9   plh0033     23889 non-null  float64\n",
      " 10  plh0335     21205 non-null  float64\n",
      " 11  plh0336     21159 non-null  float64\n",
      " 12  plh0038     21229 non-null  float64\n",
      " 13  plh0040     21225 non-null  float64\n",
      " 14  plj0046     21205 non-null  float64\n",
      " 15  plj0047     23829 non-null  float64\n",
      " 16  plb0471_v2  11094 non-null  float64\n",
      " 17  plh0333     23995 non-null  int8   \n",
      " 18  plj0014_v3  21365 non-null  float64\n",
      " 19  plh0212     23863 non-null  float64\n",
      " 20  plh0213     23946 non-null  float64\n",
      " 21  plh0214     23917 non-null  float64\n",
      " 22  plh0215     23854 non-null  float64\n",
      " 23  plh0216     23936 non-null  float64\n",
      " 24  plh0217     23929 non-null  float64\n",
      " 25  plh0218     23907 non-null  float64\n",
      " 26  plh0219     23916 non-null  float64\n",
      " 27  plh0220     23679 non-null  float64\n",
      " 28  plh0221     23929 non-null  float64\n",
      " 29  plh0222     23865 non-null  float64\n",
      " 30  plh0223     23837 non-null  float64\n",
      " 31  plh0224     23927 non-null  float64\n",
      " 32  plh0225     23839 non-null  float64\n",
      " 33  plh0226     23915 non-null  float64\n",
      " 34  gebjahr     23995 non-null  int16  \n",
      " 35  sex         23995 non-null  int8   \n",
      " 36  migback     23995 non-null  int8   \n",
      "dtypes: float64(30), int16(1), int32(3), int8(3)\n",
      "memory usage: 6.1 MB\n"
     ]
    }
   ],
   "source": [
    "data_demo.info()"
   ]
  },
  {
   "cell_type": "code",
   "execution_count": 40,
   "metadata": {},
   "outputs": [
    {
     "data": {
      "text/plain": [
       "37"
      ]
     },
     "execution_count": 40,
     "metadata": {},
     "output_type": "execute_result"
    }
   ],
   "source": [
    "len(data_demo.columns)"
   ]
  },
  {
   "cell_type": "code",
   "execution_count": 41,
   "metadata": {},
   "outputs": [],
   "source": [
    "#data_demo.to_csv(\"data_demo2016.csv\")"
   ]
  },
  {
   "cell_type": "markdown",
   "metadata": {},
   "source": [
    "# Read from hbrutt to get items on the fedral state"
   ]
  },
  {
   "cell_type": "code",
   "execution_count": 43,
   "metadata": {},
   "outputs": [],
   "source": [
    "df_ew = pd.read_stata(\"hbrutt.dta\", convert_categoricals = False)"
   ]
  },
  {
   "cell_type": "code",
   "execution_count": 44,
   "metadata": {},
   "outputs": [],
   "source": [
    "var = [\"hid\", \"bula_ew\", \"bula_h\"]"
   ]
  },
  {
   "cell_type": "code",
   "execution_count": 45,
   "metadata": {},
   "outputs": [],
   "source": [
    "df_ew = df_ew[var]"
   ]
  },
  {
   "cell_type": "code",
   "execution_count": 46,
   "metadata": {},
   "outputs": [
    {
     "data": {
      "text/plain": [
       "(151160, 3)"
      ]
     },
     "execution_count": 46,
     "metadata": {},
     "output_type": "execute_result"
    }
   ],
   "source": [
    "df_ew.shape"
   ]
  },
  {
   "cell_type": "code",
   "execution_count": 47,
   "metadata": {},
   "outputs": [
    {
     "data": {
      "text/plain": [
       "11716"
      ]
     },
     "execution_count": 47,
     "metadata": {},
     "output_type": "execute_result"
    }
   ],
   "source": [
    "len([i for i in data_demo.hid.unique() if i in df_ew.hid.unique()]) # 13316 vs. 11716 in 2016"
   ]
  },
  {
   "cell_type": "code",
   "execution_count": 48,
   "metadata": {},
   "outputs": [],
   "source": [
    "data_demo_ew = data_demo.merge(df_ew, how = \"inner\", on= \"hid\") "
   ]
  },
  {
   "cell_type": "code",
   "execution_count": 49,
   "metadata": {},
   "outputs": [
    {
     "data": {
      "text/plain": [
       "(19006, 39)"
      ]
     },
     "execution_count": 49,
     "metadata": {},
     "output_type": "execute_result"
    }
   ],
   "source": [
    "data_demo_ew.shape # 21247 vs. 19006 in 2016"
   ]
  },
  {
   "cell_type": "code",
   "execution_count": 50,
   "metadata": {},
   "outputs": [],
   "source": [
    "data_demo_ew = data_demo_ew.replace(-1, np.NaN)\n",
    "data_demo_ew = data_demo_ew.replace(-2, np.NaN)\n",
    "data_demo_ew = data_demo_ew.replace(-3, np.NaN)\n",
    "data_demo_ew = data_demo_ew.replace(-4, np.NaN)\n",
    "data_demo_ew = data_demo_ew.replace(-5, np.NaN)"
   ]
  },
  {
   "cell_type": "code",
   "execution_count": 51,
   "metadata": {},
   "outputs": [
    {
     "name": "stdout",
     "output_type": "stream",
     "text": [
      "<class 'pandas.core.frame.DataFrame'>\n",
      "Int64Index: 19006 entries, 0 to 19005\n",
      "Data columns (total 39 columns):\n",
      " #   Column      Non-Null Count  Dtype  \n",
      "---  ------      --------------  -----  \n",
      " 0   pid         19006 non-null  int32  \n",
      " 1   cid         19006 non-null  int32  \n",
      " 2   hid         19006 non-null  int32  \n",
      " 3   plj0433     16103 non-null  float64\n",
      " 4   plj0434     16106 non-null  float64\n",
      " 5   plj0435     16099 non-null  float64\n",
      " 6   plh0182     18937 non-null  float64\n",
      " 7   plh0176     16095 non-null  float64\n",
      " 8   plh0032     16235 non-null  float64\n",
      " 9   plh0033     18913 non-null  float64\n",
      " 10  plh0335     16245 non-null  float64\n",
      " 11  plh0336     16203 non-null  float64\n",
      " 12  plh0038     16264 non-null  float64\n",
      " 13  plh0040     16261 non-null  float64\n",
      " 14  plj0046     16243 non-null  float64\n",
      " 15  plj0047     18860 non-null  float64\n",
      " 16  plb0471_v2  8145 non-null   float64\n",
      " 17  plh0333     19006 non-null  int8   \n",
      " 18  plj0014_v3  16376 non-null  float64\n",
      " 19  plh0212     18889 non-null  float64\n",
      " 20  plh0213     18969 non-null  float64\n",
      " 21  plh0214     18944 non-null  float64\n",
      " 22  plh0215     18882 non-null  float64\n",
      " 23  plh0216     18958 non-null  float64\n",
      " 24  plh0217     18956 non-null  float64\n",
      " 25  plh0218     18931 non-null  float64\n",
      " 26  plh0219     18934 non-null  float64\n",
      " 27  plh0220     18721 non-null  float64\n",
      " 28  plh0221     18955 non-null  float64\n",
      " 29  plh0222     18892 non-null  float64\n",
      " 30  plh0223     18863 non-null  float64\n",
      " 31  plh0224     18952 non-null  float64\n",
      " 32  plh0225     18867 non-null  float64\n",
      " 33  plh0226     18936 non-null  float64\n",
      " 34  gebjahr     19006 non-null  int16  \n",
      " 35  sex         19006 non-null  int8   \n",
      " 36  migback     19006 non-null  int8   \n",
      " 37  bula_ew     19006 non-null  int8   \n",
      " 38  bula_h      19006 non-null  int8   \n",
      "dtypes: float64(30), int16(1), int32(3), int8(5)\n",
      "memory usage: 4.8 MB\n"
     ]
    }
   ],
   "source": [
    "data_demo_ew.info()"
   ]
  },
  {
   "cell_type": "markdown",
   "metadata": {},
   "source": [
    "# Read from pgen.dta to get item on the educational years and the employment status"
   ]
  },
  {
   "cell_type": "code",
   "execution_count": 52,
   "metadata": {},
   "outputs": [],
   "source": [
    "# edu_emp = [\"pid\", \"pgemplst\", \"pgbilzeit\"]\n",
    "df_2 = pd.read_stata(\"pgen.dta\", convert_categoricals = False)"
   ]
  },
  {
   "cell_type": "code",
   "execution_count": 53,
   "metadata": {},
   "outputs": [],
   "source": [
    "df_2_16 = df_2[df_2.syear == 2016]"
   ]
  },
  {
   "cell_type": "code",
   "execution_count": 54,
   "metadata": {},
   "outputs": [],
   "source": [
    "df_add_demo = df_2_16[edu_emp]"
   ]
  },
  {
   "cell_type": "code",
   "execution_count": 55,
   "metadata": {},
   "outputs": [],
   "source": [
    "#len([i for i in df_add_demo.pid.unique() if i in data_demo_ew.pid.unique()])"
   ]
  },
  {
   "cell_type": "code",
   "execution_count": 56,
   "metadata": {},
   "outputs": [],
   "source": [
    "data_demo_ew_add = data_demo_ew.merge(df_add_demo, how = \"inner\", on= \"pid\") "
   ]
  },
  {
   "cell_type": "code",
   "execution_count": 57,
   "metadata": {},
   "outputs": [
    {
     "data": {
      "text/plain": [
       "(19006, 41)"
      ]
     },
     "execution_count": 57,
     "metadata": {},
     "output_type": "execute_result"
    }
   ],
   "source": [
    "data_demo_ew_add.shape #21247 vs. 19006"
   ]
  },
  {
   "cell_type": "code",
   "execution_count": 58,
   "metadata": {},
   "outputs": [],
   "source": [
    "data_demo_ew_add = data_demo_ew_add.replace(-1, np.NaN)\n",
    "data_demo_ew_add = data_demo_ew_add.replace(-2, np.NaN)\n",
    "data_demo_ew_add = data_demo_ew_add.replace(-3, np.NaN)\n",
    "data_demo_ew_add = data_demo_ew_add.replace(-4, np.NaN)\n",
    "data_demo_ew_add = data_demo_ew_add.replace(-5, np.NaN)"
   ]
  },
  {
   "cell_type": "code",
   "execution_count": 59,
   "metadata": {},
   "outputs": [
    {
     "name": "stdout",
     "output_type": "stream",
     "text": [
      "<class 'pandas.core.frame.DataFrame'>\n",
      "Int64Index: 19006 entries, 0 to 19005\n",
      "Data columns (total 41 columns):\n",
      " #   Column      Non-Null Count  Dtype  \n",
      "---  ------      --------------  -----  \n",
      " 0   pid         19006 non-null  int32  \n",
      " 1   cid         19006 non-null  int32  \n",
      " 2   hid         19006 non-null  int32  \n",
      " 3   plj0433     16103 non-null  float64\n",
      " 4   plj0434     16106 non-null  float64\n",
      " 5   plj0435     16099 non-null  float64\n",
      " 6   plh0182     18937 non-null  float64\n",
      " 7   plh0176     16095 non-null  float64\n",
      " 8   plh0032     16235 non-null  float64\n",
      " 9   plh0033     18913 non-null  float64\n",
      " 10  plh0335     16245 non-null  float64\n",
      " 11  plh0336     16203 non-null  float64\n",
      " 12  plh0038     16264 non-null  float64\n",
      " 13  plh0040     16261 non-null  float64\n",
      " 14  plj0046     16243 non-null  float64\n",
      " 15  plj0047     18860 non-null  float64\n",
      " 16  plb0471_v2  8145 non-null   float64\n",
      " 17  plh0333     19006 non-null  int8   \n",
      " 18  plj0014_v3  16376 non-null  float64\n",
      " 19  plh0212     18889 non-null  float64\n",
      " 20  plh0213     18969 non-null  float64\n",
      " 21  plh0214     18944 non-null  float64\n",
      " 22  plh0215     18882 non-null  float64\n",
      " 23  plh0216     18958 non-null  float64\n",
      " 24  plh0217     18956 non-null  float64\n",
      " 25  plh0218     18931 non-null  float64\n",
      " 26  plh0219     18934 non-null  float64\n",
      " 27  plh0220     18721 non-null  float64\n",
      " 28  plh0221     18955 non-null  float64\n",
      " 29  plh0222     18892 non-null  float64\n",
      " 30  plh0223     18863 non-null  float64\n",
      " 31  plh0224     18952 non-null  float64\n",
      " 32  plh0225     18867 non-null  float64\n",
      " 33  plh0226     18936 non-null  float64\n",
      " 34  gebjahr     19006 non-null  int16  \n",
      " 35  sex         19006 non-null  int8   \n",
      " 36  migback     19006 non-null  int8   \n",
      " 37  bula_ew     19006 non-null  int8   \n",
      " 38  bula_h      19006 non-null  int8   \n",
      " 39  pgemplst    19006 non-null  float32\n",
      " 40  pgbilzeit   18079 non-null  float32\n",
      "dtypes: float32(2), float64(30), int16(1), int32(3), int8(5)\n",
      "memory usage: 5.0 MB\n"
     ]
    }
   ],
   "source": [
    "data_demo_ew_add.info()"
   ]
  },
  {
   "cell_type": "code",
   "execution_count": 60,
   "metadata": {},
   "outputs": [
    {
     "data": {
      "text/plain": [
       "41"
      ]
     },
     "execution_count": 60,
     "metadata": {},
     "output_type": "execute_result"
    }
   ],
   "source": [
    "len(data_demo_ew_add.columns)"
   ]
  },
  {
   "cell_type": "markdown",
   "metadata": {},
   "source": [
    "# Clean"
   ]
  },
  {
   "cell_type": "code",
   "execution_count": 61,
   "metadata": {},
   "outputs": [],
   "source": [
    "finalData = data_demo_ew_add.dropna()"
   ]
  },
  {
   "cell_type": "code",
   "execution_count": 62,
   "metadata": {},
   "outputs": [
    {
     "data": {
      "text/plain": [
       "(7557, 41)"
      ]
     },
     "execution_count": 62,
     "metadata": {},
     "output_type": "execute_result"
    }
   ],
   "source": [
    "finalData.shape "
   ]
  },
  {
   "cell_type": "code",
   "execution_count": 63,
   "metadata": {},
   "outputs": [
    {
     "name": "stdout",
     "output_type": "stream",
     "text": [
      "<class 'pandas.core.frame.DataFrame'>\n",
      "Int64Index: 7557 entries, 5 to 16375\n",
      "Data columns (total 41 columns):\n",
      " #   Column      Non-Null Count  Dtype  \n",
      "---  ------      --------------  -----  \n",
      " 0   pid         7557 non-null   int32  \n",
      " 1   cid         7557 non-null   int32  \n",
      " 2   hid         7557 non-null   int32  \n",
      " 3   plj0433     7557 non-null   float64\n",
      " 4   plj0434     7557 non-null   float64\n",
      " 5   plj0435     7557 non-null   float64\n",
      " 6   plh0182     7557 non-null   float64\n",
      " 7   plh0176     7557 non-null   float64\n",
      " 8   plh0032     7557 non-null   float64\n",
      " 9   plh0033     7557 non-null   float64\n",
      " 10  plh0335     7557 non-null   float64\n",
      " 11  plh0336     7557 non-null   float64\n",
      " 12  plh0038     7557 non-null   float64\n",
      " 13  plh0040     7557 non-null   float64\n",
      " 14  plj0046     7557 non-null   float64\n",
      " 15  plj0047     7557 non-null   float64\n",
      " 16  plb0471_v2  7557 non-null   float64\n",
      " 17  plh0333     7557 non-null   int8   \n",
      " 18  plj0014_v3  7557 non-null   float64\n",
      " 19  plh0212     7557 non-null   float64\n",
      " 20  plh0213     7557 non-null   float64\n",
      " 21  plh0214     7557 non-null   float64\n",
      " 22  plh0215     7557 non-null   float64\n",
      " 23  plh0216     7557 non-null   float64\n",
      " 24  plh0217     7557 non-null   float64\n",
      " 25  plh0218     7557 non-null   float64\n",
      " 26  plh0219     7557 non-null   float64\n",
      " 27  plh0220     7557 non-null   float64\n",
      " 28  plh0221     7557 non-null   float64\n",
      " 29  plh0222     7557 non-null   float64\n",
      " 30  plh0223     7557 non-null   float64\n",
      " 31  plh0224     7557 non-null   float64\n",
      " 32  plh0225     7557 non-null   float64\n",
      " 33  plh0226     7557 non-null   float64\n",
      " 34  gebjahr     7557 non-null   int16  \n",
      " 35  sex         7557 non-null   int8   \n",
      " 36  migback     7557 non-null   int8   \n",
      " 37  bula_ew     7557 non-null   int8   \n",
      " 38  bula_h      7557 non-null   int8   \n",
      " 39  pgemplst    7557 non-null   float32\n",
      " 40  pgbilzeit   7557 non-null   float32\n",
      "dtypes: float32(2), float64(30), int16(1), int32(3), int8(5)\n",
      "memory usage: 2.0 MB\n"
     ]
    }
   ],
   "source": [
    "finalData.info()"
   ]
  },
  {
   "cell_type": "code",
   "execution_count": null,
   "metadata": {},
   "outputs": [],
   "source": [
    "#finalData.to_csv(\"finalData2016.csv\")"
   ]
  },
  {
   "cell_type": "code",
   "execution_count": null,
   "metadata": {},
   "outputs": [],
   "source": []
  }
 ],
 "metadata": {
  "kernelspec": {
   "display_name": "Python 3",
   "language": "python",
   "name": "python3"
  },
  "language_info": {
   "codemirror_mode": {
    "name": "ipython",
    "version": 3
   },
   "file_extension": ".py",
   "mimetype": "text/x-python",
   "name": "python",
   "nbconvert_exporter": "python",
   "pygments_lexer": "ipython3",
   "version": "3.8.5"
  },
  "toc": {
   "base_numbering": 1,
   "nav_menu": {},
   "number_sections": true,
   "sideBar": true,
   "skip_h1_title": false,
   "title_cell": "Table of Contents",
   "title_sidebar": "Contents",
   "toc_cell": false,
   "toc_position": {
    "height": "calc(100% - 180px)",
    "left": "10px",
    "top": "150px",
    "width": "165px"
   },
   "toc_section_display": true,
   "toc_window_display": true
  }
 },
 "nbformat": 4,
 "nbformat_minor": 4
}
