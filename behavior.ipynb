{
 "cells": [
  {
   "cell_type": "code",
   "execution_count": 48,
   "metadata": {},
   "outputs": [],
   "source": [
    "import pandas as pd\n",
    "import numpy as np"
   ]
  },
  {
   "cell_type": "code",
   "execution_count": 93,
   "metadata": {},
   "outputs": [],
   "source": [
    "df = pd.read_stata(\"pl.dta\", convert_categoricals = False)"
   ]
  },
  {
   "cell_type": "code",
   "execution_count": 3,
   "metadata": {},
   "outputs": [],
   "source": [
    "df_2016 = df[df.syear == 2016]"
   ]
  },
  {
   "cell_type": "code",
   "execution_count": 4,
   "metadata": {},
   "outputs": [],
   "source": [
    "df_2016 = df_2016[[\"pid\", \"plj0440\", \"plj0441\", \"plj0438\", \"plj0439\", \"plj0442\", \"plj0443\"]]"
   ]
  },
  {
   "cell_type": "markdown",
   "metadata": {},
   "source": [
    "plj0440: Working with refugees directly since last year \\\n",
    "plj0441: Working with refugees directly in the future \\\n",
    "plj0438: Donating money or goods to help refugees since last year \\\n",
    "plj0439: Donating money or goods to help refugees in the future \\\n",
    "plj0442: Going to demonstrations or collecting signatures for initiatives to help refugees since last year \\\n",
    "plj0443: Going to demonstrations or collecting signatures for initiatives to help refugees in the future \\\n",
    "plj0014_v3: Do you have German citizenship"
   ]
  },
  {
   "cell_type": "code",
   "execution_count": 49,
   "metadata": {},
   "outputs": [],
   "source": [
    "data = pd.read_csv(\"MyDataFinalCompositeScales.csv\")"
   ]
  },
  {
   "cell_type": "code",
   "execution_count": 50,
   "metadata": {},
   "outputs": [
    {
     "data": {
      "text/plain": [
       "Index(['pid', 'cid', 'hid', 'plj0433', 'age', 'sex', 'bula', 'employStat',\n",
       "       'pgbilzeit', 'plb0471_v2', 'migback', 'plh0182', 'plh0176', 'plh0032',\n",
       "       'plh0033', 'plh0335', 'plh0336', 'plh0038', 'plh0040', 'plj0046',\n",
       "       'plj0047', 'plj0434', 'plj0435', 'bfi_consc', 'bfi_extrav', 'bfi_agree',\n",
       "       'bfi_open', 'bfi_neurot', 'attitude', 'Con_Economic', 'Con_Security'],\n",
       "      dtype='object')"
      ]
     },
     "execution_count": 50,
     "metadata": {},
     "output_type": "execute_result"
    }
   ],
   "source": [
    "data.columns"
   ]
  },
  {
   "cell_type": "code",
   "execution_count": null,
   "metadata": {},
   "outputs": [],
   "source": []
  },
  {
   "cell_type": "code",
   "execution_count": 51,
   "metadata": {},
   "outputs": [],
   "source": [
    "data['Multiclass'] = np.where(data['plj0435']> 7 , \"positive\",  # 2 = 'Best', 1 = 'Premium', 0 = 'Value'\n",
    "                      np.where(data['plj0435']> 4, \"moderate\", \"negative\"))"
   ]
  },
  {
   "cell_type": "code",
   "execution_count": 52,
   "metadata": {},
   "outputs": [],
   "source": [
    "#behaviour_data = data.merge(df_2016, how = \"inner\", on= \"pid\") "
   ]
  },
  {
   "cell_type": "code",
   "execution_count": 53,
   "metadata": {},
   "outputs": [],
   "source": [
    "#behaviour_data.to_csv(\"behaviour_data.csv\")"
   ]
  },
  {
   "cell_type": "code",
   "execution_count": 54,
   "metadata": {},
   "outputs": [],
   "source": [
    "behaviour_data = pd.read_csv(\"behaviour_data.csv\")"
   ]
  },
  {
   "cell_type": "code",
   "execution_count": 55,
   "metadata": {},
   "outputs": [
    {
     "data": {
      "text/plain": [
       "Index(['Unnamed: 0', 'pid', 'cid', 'hid', 'plj0433', 'age', 'sex', 'bula',\n",
       "       'employStat', 'pgbilzeit', 'plb0471_v2', 'migback', 'plh0182',\n",
       "       'plh0176', 'plh0032', 'plh0033', 'plh0335', 'plh0336', 'plh0038',\n",
       "       'plh0040', 'plj0046', 'plj0047', 'plj0434', 'plj0435', 'bfi_consc',\n",
       "       'bfi_extrav', 'bfi_agree', 'bfi_open', 'bfi_neurot', 'attitude',\n",
       "       'Con_Economic', 'Con_Security', 'Multiclass', 'plj0440', 'plj0441',\n",
       "       'plj0438', 'plj0439', 'plj0442', 'plj0443'],\n",
       "      dtype='object')"
      ]
     },
     "execution_count": 55,
     "metadata": {},
     "output_type": "execute_result"
    }
   ],
   "source": [
    "behaviour_data.columns"
   ]
  },
  {
   "cell_type": "code",
   "execution_count": 56,
   "metadata": {},
   "outputs": [
    {
     "data": {
      "text/plain": [
       " 2    6200\n",
       " 1     549\n",
       "-1      46\n",
       "Name: plj0440, dtype: int64"
      ]
     },
     "execution_count": 56,
     "metadata": {},
     "output_type": "execute_result"
    }
   ],
   "source": [
    "behaviour_data.plj0440.value_counts()"
   ]
  },
  {
   "cell_type": "code",
   "execution_count": 57,
   "metadata": {},
   "outputs": [
    {
     "data": {
      "text/plain": [
       "(6795, 39)"
      ]
     },
     "execution_count": 57,
     "metadata": {},
     "output_type": "execute_result"
    }
   ],
   "source": [
    "behaviour_data.shape"
   ]
  },
  {
   "cell_type": "code",
   "execution_count": 58,
   "metadata": {},
   "outputs": [],
   "source": [
    "behaviour_data = behaviour_data.replace(-1, np.NaN)"
   ]
  },
  {
   "cell_type": "code",
   "execution_count": 59,
   "metadata": {},
   "outputs": [
    {
     "name": "stdout",
     "output_type": "stream",
     "text": [
      "<class 'pandas.core.frame.DataFrame'>\n",
      "RangeIndex: 6795 entries, 0 to 6794\n",
      "Data columns (total 39 columns):\n",
      " #   Column        Non-Null Count  Dtype  \n",
      "---  ------        --------------  -----  \n",
      " 0   Unnamed: 0    6795 non-null   int64  \n",
      " 1   pid           6795 non-null   int64  \n",
      " 2   cid           6795 non-null   int64  \n",
      " 3   hid           6795 non-null   int64  \n",
      " 4   plj0433       6795 non-null   float64\n",
      " 5   age           6795 non-null   int64  \n",
      " 6   sex           6795 non-null   int64  \n",
      " 7   bula          6795 non-null   int64  \n",
      " 8   employStat    6795 non-null   int64  \n",
      " 9   pgbilzeit     6795 non-null   float64\n",
      " 10  plb0471_v2    6795 non-null   float64\n",
      " 11  migback       6795 non-null   int64  \n",
      " 12  plh0182       6795 non-null   float64\n",
      " 13  plh0176       6795 non-null   float64\n",
      " 14  plh0032       6795 non-null   float64\n",
      " 15  plh0033       6795 non-null   float64\n",
      " 16  plh0335       6795 non-null   float64\n",
      " 17  plh0336       6795 non-null   float64\n",
      " 18  plh0038       6795 non-null   float64\n",
      " 19  plh0040       6795 non-null   float64\n",
      " 20  plj0046       6795 non-null   float64\n",
      " 21  plj0047       6795 non-null   float64\n",
      " 22  plj0434       6795 non-null   float64\n",
      " 23  plj0435       6795 non-null   float64\n",
      " 24  bfi_consc     6795 non-null   float64\n",
      " 25  bfi_extrav    6795 non-null   float64\n",
      " 26  bfi_agree     6795 non-null   float64\n",
      " 27  bfi_open      6795 non-null   float64\n",
      " 28  bfi_neurot    6795 non-null   float64\n",
      " 29  attitude      6795 non-null   int64  \n",
      " 30  Con_Economic  6795 non-null   float64\n",
      " 31  Con_Security  6795 non-null   float64\n",
      " 32  Multiclass    6795 non-null   object \n",
      " 33  plj0440       6749 non-null   float64\n",
      " 34  plj0441       6672 non-null   float64\n",
      " 35  plj0438       6758 non-null   float64\n",
      " 36  plj0439       6687 non-null   float64\n",
      " 37  plj0442       6740 non-null   float64\n",
      " 38  plj0443       6650 non-null   float64\n",
      "dtypes: float64(28), int64(10), object(1)\n",
      "memory usage: 2.0+ MB\n"
     ]
    }
   ],
   "source": [
    "behaviour_data.info()"
   ]
  },
  {
   "cell_type": "code",
   "execution_count": 60,
   "metadata": {},
   "outputs": [],
   "source": [
    "behaviour_data = behaviour_data.dropna()"
   ]
  },
  {
   "cell_type": "code",
   "execution_count": 61,
   "metadata": {},
   "outputs": [
    {
     "data": {
      "text/plain": [
       "(6596, 39)"
      ]
     },
     "execution_count": 61,
     "metadata": {},
     "output_type": "execute_result"
    }
   ],
   "source": [
    "behaviour_data.shape"
   ]
  },
  {
   "cell_type": "code",
   "execution_count": 62,
   "metadata": {},
   "outputs": [
    {
     "data": {
      "text/plain": [
       "Index(['Unnamed: 0', 'pid', 'cid', 'hid', 'plj0433', 'age', 'sex', 'bula',\n",
       "       'employStat', 'pgbilzeit', 'plb0471_v2', 'migback', 'plh0182',\n",
       "       'plh0176', 'plh0032', 'plh0033', 'plh0335', 'plh0336', 'plh0038',\n",
       "       'plh0040', 'plj0046', 'plj0047', 'plj0434', 'plj0435', 'bfi_consc',\n",
       "       'bfi_extrav', 'bfi_agree', 'bfi_open', 'bfi_neurot', 'attitude',\n",
       "       'Con_Economic', 'Con_Security', 'Multiclass', 'plj0440', 'plj0441',\n",
       "       'plj0438', 'plj0439', 'plj0442', 'plj0443'],\n",
       "      dtype='object')"
      ]
     },
     "execution_count": 62,
     "metadata": {},
     "output_type": "execute_result"
    }
   ],
   "source": [
    "behaviour_data.columns"
   ]
  },
  {
   "cell_type": "code",
   "execution_count": 63,
   "metadata": {},
   "outputs": [
    {
     "data": {
      "text/plain": [
       "moderate    3040\n",
       "negative    2473\n",
       "positive    1083\n",
       "Name: Multiclass, dtype: int64"
      ]
     },
     "execution_count": 63,
     "metadata": {},
     "output_type": "execute_result"
    }
   ],
   "source": [
    "behaviour_data.Multiclass.value_counts()"
   ]
  },
  {
   "cell_type": "code",
   "execution_count": 64,
   "metadata": {},
   "outputs": [
    {
     "data": {
      "text/plain": [
       "2.0    0.960776\n",
       "1.0    0.039224\n",
       "Name: plj0440, dtype: float64"
      ]
     },
     "execution_count": 64,
     "metadata": {},
     "output_type": "execute_result"
    }
   ],
   "source": [
    "behaviour_data[behaviour_data.Multiclass == \"negative\"][\"plj0440\"].value_counts(normalize = True) #normalize = True"
   ]
  },
  {
   "cell_type": "code",
   "execution_count": 65,
   "metadata": {},
   "outputs": [
    {
     "data": {
      "text/plain": [
       "2.0    0.816013\n",
       "1.0    0.183987\n",
       "Name: plj0438, dtype: float64"
      ]
     },
     "execution_count": 65,
     "metadata": {},
     "output_type": "execute_result"
    }
   ],
   "source": [
    "behaviour_data[behaviour_data.Multiclass == \"negative\"][\"plj0438\"].value_counts(normalize = True) #normalize = True"
   ]
  },
  {
   "cell_type": "code",
   "execution_count": 66,
   "metadata": {},
   "outputs": [
    {
     "data": {
      "text/plain": [
       "2.0    0.978973\n",
       "1.0    0.021027\n",
       "Name: plj0442, dtype: float64"
      ]
     },
     "execution_count": 66,
     "metadata": {},
     "output_type": "execute_result"
    }
   ],
   "source": [
    "behaviour_data[behaviour_data.Multiclass == \"negative\"][\"plj0442\"].value_counts(normalize = True) #normalize = True"
   ]
  },
  {
   "cell_type": "code",
   "execution_count": 67,
   "metadata": {},
   "outputs": [
    {
     "data": {
      "text/plain": [
       "2.0    0.916118\n",
       "1.0    0.083882\n",
       "Name: plj0440, dtype: float64"
      ]
     },
     "execution_count": 67,
     "metadata": {},
     "output_type": "execute_result"
    }
   ],
   "source": [
    "behaviour_data[behaviour_data.Multiclass == \"moderate\"][\"plj0440\"].value_counts(normalize = True)"
   ]
  },
  {
   "cell_type": "code",
   "execution_count": 68,
   "metadata": {},
   "outputs": [
    {
     "data": {
      "text/plain": [
       "2.0    0.615461\n",
       "1.0    0.384539\n",
       "Name: plj0438, dtype: float64"
      ]
     },
     "execution_count": 68,
     "metadata": {},
     "output_type": "execute_result"
    }
   ],
   "source": [
    "behaviour_data[behaviour_data.Multiclass == \"moderate\"][\"plj0438\"].value_counts(normalize = True)"
   ]
  },
  {
   "cell_type": "code",
   "execution_count": 69,
   "metadata": {},
   "outputs": [
    {
     "data": {
      "text/plain": [
       "2.0    0.959211\n",
       "1.0    0.040789\n",
       "Name: plj0442, dtype: float64"
      ]
     },
     "execution_count": 69,
     "metadata": {},
     "output_type": "execute_result"
    }
   ],
   "source": [
    "behaviour_data[behaviour_data.Multiclass == \"moderate\"][\"plj0442\"].value_counts(normalize = True)"
   ]
  },
  {
   "cell_type": "code",
   "execution_count": 70,
   "metadata": {},
   "outputs": [
    {
     "data": {
      "text/plain": [
       "2.0    0.843029\n",
       "1.0    0.156971\n",
       "Name: plj0440, dtype: float64"
      ]
     },
     "execution_count": 70,
     "metadata": {},
     "output_type": "execute_result"
    }
   ],
   "source": [
    "behaviour_data[behaviour_data.Multiclass == \"positive\"][\"plj0440\"].value_counts(normalize = True)"
   ]
  },
  {
   "cell_type": "code",
   "execution_count": 71,
   "metadata": {},
   "outputs": [
    {
     "data": {
      "text/plain": [
       "1.0    0.561404\n",
       "2.0    0.438596\n",
       "Name: plj0438, dtype: float64"
      ]
     },
     "execution_count": 71,
     "metadata": {},
     "output_type": "execute_result"
    }
   ],
   "source": [
    "behaviour_data[behaviour_data.Multiclass == \"positive\"][\"plj0438\"].value_counts(normalize = True)"
   ]
  },
  {
   "cell_type": "code",
   "execution_count": 72,
   "metadata": {},
   "outputs": [
    {
     "data": {
      "text/plain": [
       "2.0    0.851339\n",
       "1.0    0.148661\n",
       "Name: plj0442, dtype: float64"
      ]
     },
     "execution_count": 72,
     "metadata": {},
     "output_type": "execute_result"
    }
   ],
   "source": [
    "behaviour_data[behaviour_data.Multiclass == \"positive\"][\"plj0442\"].value_counts(normalize = True)"
   ]
  },
  {
   "cell_type": "code",
   "execution_count": 73,
   "metadata": {},
   "outputs": [
    {
     "data": {
      "text/plain": [
       "2.0    0.920861\n",
       "1.0    0.079139\n",
       "Name: plj0440, dtype: float64"
      ]
     },
     "execution_count": 73,
     "metadata": {},
     "output_type": "execute_result"
    }
   ],
   "source": [
    "behaviour_data.plj0440.value_counts(normalize = True) #"
   ]
  },
  {
   "cell_type": "code",
   "execution_count": 74,
   "metadata": {},
   "outputs": [
    {
     "data": {
      "text/plain": [
       "2.0    0.860825\n",
       "1.0    0.139175\n",
       "Name: plj0441, dtype: float64"
      ]
     },
     "execution_count": 74,
     "metadata": {},
     "output_type": "execute_result"
    }
   ],
   "source": [
    "behaviour_data.plj0441.value_counts(normalize = True) #"
   ]
  },
  {
   "cell_type": "code",
   "execution_count": 75,
   "metadata": {},
   "outputs": [
    {
     "data": {
      "text/plain": [
       "2.0    0.661613\n",
       "1.0    0.338387\n",
       "Name: plj0438, dtype: float64"
      ]
     },
     "execution_count": 75,
     "metadata": {},
     "output_type": "execute_result"
    }
   ],
   "source": [
    "behaviour_data.plj0438.value_counts(normalize = True)"
   ]
  },
  {
   "cell_type": "code",
   "execution_count": 76,
   "metadata": {},
   "outputs": [
    {
     "data": {
      "text/plain": [
       "2.0    0.615221\n",
       "1.0    0.384779\n",
       "Name: plj0439, dtype: float64"
      ]
     },
     "execution_count": 76,
     "metadata": {},
     "output_type": "execute_result"
    }
   ],
   "source": [
    "behaviour_data.plj0439.value_counts(normalize = True)"
   ]
  },
  {
   "cell_type": "code",
   "execution_count": 77,
   "metadata": {},
   "outputs": [
    {
     "data": {
      "text/plain": [
       "2.0    0.948908\n",
       "1.0    0.051092\n",
       "Name: plj0442, dtype: float64"
      ]
     },
     "execution_count": 77,
     "metadata": {},
     "output_type": "execute_result"
    }
   ],
   "source": [
    "behaviour_data.plj0442.value_counts(normalize = True)"
   ]
  },
  {
   "cell_type": "code",
   "execution_count": 78,
   "metadata": {},
   "outputs": [
    {
     "data": {
      "text/plain": [
       "2.0    0.912978\n",
       "1.0    0.087022\n",
       "Name: plj0443, dtype: float64"
      ]
     },
     "execution_count": 78,
     "metadata": {},
     "output_type": "execute_result"
    }
   ],
   "source": [
    "behaviour_data.plj0443.value_counts(normalize = True)"
   ]
  },
  {
   "cell_type": "code",
   "execution_count": 79,
   "metadata": {},
   "outputs": [
    {
     "data": {
      "text/plain": [
       "1.0    0.888889\n",
       "2.0    0.111111\n",
       "Name: plj0441, dtype: float64"
      ]
     },
     "execution_count": 79,
     "metadata": {},
     "output_type": "execute_result"
    }
   ],
   "source": [
    "behaviour_data[behaviour_data.plj0440 == 1][\"plj0441\"].value_counts(normalize = True) # working"
   ]
  },
  {
   "cell_type": "code",
   "execution_count": 80,
   "metadata": {},
   "outputs": [
    {
     "data": {
      "text/plain": [
       "1.0    0.908602\n",
       "2.0    0.091398\n",
       "Name: plj0439, dtype: float64"
      ]
     },
     "execution_count": 80,
     "metadata": {},
     "output_type": "execute_result"
    }
   ],
   "source": [
    "behaviour_data[behaviour_data.plj0438 == 1][\"plj0439\"].value_counts(normalize = True) # donating"
   ]
  },
  {
   "cell_type": "code",
   "execution_count": 81,
   "metadata": {},
   "outputs": [
    {
     "data": {
      "text/plain": [
       "1.0    0.890208\n",
       "2.0    0.109792\n",
       "Name: plj0443, dtype: float64"
      ]
     },
     "execution_count": 81,
     "metadata": {},
     "output_type": "execute_result"
    }
   ],
   "source": [
    "behaviour_data[behaviour_data.plj0442 == 1][\"plj0443\"].value_counts(normalize = True) # demonstrations"
   ]
  },
  {
   "cell_type": "markdown",
   "metadata": {},
   "source": [
    "# How many Germans "
   ]
  },
  {
   "cell_type": "code",
   "execution_count": 88,
   "metadata": {},
   "outputs": [],
   "source": [
    "df_2016_G = pd.read_csv(\"data_G.csv\")"
   ]
  },
  {
   "cell_type": "code",
   "execution_count": 89,
   "metadata": {},
   "outputs": [],
   "source": [
    "df_2016_G = df_2016_G[[\"pid\", \"plj0014_v3\"]]"
   ]
  },
  {
   "cell_type": "code",
   "execution_count": 90,
   "metadata": {},
   "outputs": [],
   "source": [
    "data_G = data.merge(df_2016_G, how = \"inner\", on= \"pid\") "
   ]
  },
  {
   "cell_type": "code",
   "execution_count": 91,
   "metadata": {},
   "outputs": [
    {
     "data": {
      "text/plain": [
       "(6795, 33)"
      ]
     },
     "execution_count": 91,
     "metadata": {},
     "output_type": "execute_result"
    }
   ],
   "source": [
    "data_G.shape"
   ]
  },
  {
   "cell_type": "code",
   "execution_count": 92,
   "metadata": {},
   "outputs": [
    {
     "data": {
      "text/plain": [
       "1    0.855629\n",
       "2    0.144371\n",
       "Name: plj0014_v3, dtype: float64"
      ]
     },
     "execution_count": 92,
     "metadata": {},
     "output_type": "execute_result"
    }
   ],
   "source": [
    "data_G.plj0014_v3.value_counts(normalize = True)"
   ]
  },
  {
   "cell_type": "code",
   "execution_count": null,
   "metadata": {},
   "outputs": [],
   "source": [
    "data_G = data_G.dropna()"
   ]
  },
  {
   "cell_type": "code",
   "execution_count": null,
   "metadata": {},
   "outputs": [],
   "source": [
    "data_G.shape"
   ]
  },
  {
   "cell_type": "code",
   "execution_count": null,
   "metadata": {},
   "outputs": [],
   "source": [
    "#data_G.to_csv(\"data_G.csv\")"
   ]
  },
  {
   "cell_type": "code",
   "execution_count": null,
   "metadata": {},
   "outputs": [],
   "source": []
  }
 ],
 "metadata": {
  "kernelspec": {
   "display_name": "Python 3",
   "language": "python",
   "name": "python3"
  },
  "language_info": {
   "codemirror_mode": {
    "name": "ipython",
    "version": 3
   },
   "file_extension": ".py",
   "mimetype": "text/x-python",
   "name": "python",
   "nbconvert_exporter": "python",
   "pygments_lexer": "ipython3",
   "version": "3.8.5"
  },
  "toc": {
   "base_numbering": 1,
   "nav_menu": {},
   "number_sections": true,
   "sideBar": true,
   "skip_h1_title": false,
   "title_cell": "Table of Contents",
   "title_sidebar": "Contents",
   "toc_cell": false,
   "toc_position": {},
   "toc_section_display": true,
   "toc_window_display": true
  }
 },
 "nbformat": 4,
 "nbformat_minor": 4
}
