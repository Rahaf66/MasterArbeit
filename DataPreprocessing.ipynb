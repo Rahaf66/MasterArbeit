{
 "cells": [
  {
   "cell_type": "code",
   "execution_count": 18,
   "metadata": {},
   "outputs": [],
   "source": [
    "import pandas as pd"
   ]
  },
  {
   "cell_type": "code",
   "execution_count": 19,
   "metadata": {},
   "outputs": [],
   "source": [
    "df = pd.read_csv(\"finalData2016.csv\")"
   ]
  },
  {
   "cell_type": "code",
   "execution_count": 20,
   "metadata": {},
   "outputs": [
    {
     "data": {
      "text/plain": [
       "Index(['Unnamed: 0', 'pid', 'cid', 'hid', 'plj0433', 'plj0434', 'plj0435',\n",
       "       'plh0182', 'plh0176', 'plh0032', 'plh0033', 'plh0335', 'plh0336',\n",
       "       'plh0038', 'plh0040', 'plj0046', 'plj0047', 'plb0471_v2', 'plh0333',\n",
       "       'plh0212', 'plh0213', 'plh0214', 'plh0215', 'plh0216', 'plh0217',\n",
       "       'plh0218', 'plh0219', 'plh0220', 'plh0221', 'plh0222', 'plh0223',\n",
       "       'plh0224', 'plh0225', 'plh0226', 'gebjahr', 'sex', 'migback', 'bula_ew',\n",
       "       'bula_h', 'pgemplst', 'pgbilzeit'],\n",
       "      dtype='object')"
      ]
     },
     "execution_count": 20,
     "metadata": {},
     "output_type": "execute_result"
    }
   ],
   "source": [
    "df.columns"
   ]
  },
  {
   "cell_type": "code",
   "execution_count": 3,
   "metadata": {},
   "outputs": [],
   "source": [
    "df = df.drop(\"Unnamed: 0\",axis=1)"
   ]
  },
  {
   "cell_type": "code",
   "execution_count": 4,
   "metadata": {},
   "outputs": [
    {
     "data": {
      "text/plain": [
       "1.0    4287\n",
       "2.0    2049\n",
       "4.0     581\n",
       "5.0     424\n",
       "3.0     208\n",
       "6.0       8\n",
       "Name: pgemplst, dtype: int64"
      ]
     },
     "execution_count": 4,
     "metadata": {},
     "output_type": "execute_result"
    }
   ],
   "source": [
    "df[\"pgemplst\"].value_counts()"
   ]
  },
  {
   "cell_type": "code",
   "execution_count": 12,
   "metadata": {},
   "outputs": [
    {
     "data": {
      "text/plain": [
       "8.0     2780\n",
       "7.0     1539\n",
       "9.0     1472\n",
       "6.0      532\n",
       "5.0      483\n",
       "10.0     454\n",
       "4.0      136\n",
       "3.0       97\n",
       "2.0       41\n",
       "1.0       14\n",
       "0.0        9\n",
       "Name: plh0182, dtype: int64"
      ]
     },
     "execution_count": 12,
     "metadata": {},
     "output_type": "execute_result"
    }
   ],
   "source": [
    "df.plh0182.value_counts()"
   ]
  },
  {
   "cell_type": "markdown",
   "metadata": {},
   "source": [
    "# Age"
   ]
  },
  {
   "cell_type": "code",
   "execution_count": 4,
   "metadata": {},
   "outputs": [],
   "source": [
    "df[\"age\"] = 2016 - df[\"gebjahr\"]"
   ]
  },
  {
   "cell_type": "markdown",
   "metadata": {},
   "source": [
    "# East vs. West"
   ]
  },
  {
   "cell_type": "code",
   "execution_count": 8,
   "metadata": {},
   "outputs": [],
   "source": [
    "recode_dict = {21: 1, 22: 2}\n",
    "df[\"bula\"] = df[\"bula_ew\"].map(recode_dict)"
   ]
  },
  {
   "cell_type": "code",
   "execution_count": 10,
   "metadata": {},
   "outputs": [
    {
     "data": {
      "text/plain": [
       "1    6158\n",
       "2    1399\n",
       "Name: bula, dtype: int64"
      ]
     },
     "execution_count": 10,
     "metadata": {},
     "output_type": "execute_result"
    }
   ],
   "source": [
    "df[\"bula\"].value_counts(nor)  # migback"
   ]
  },
  {
   "cell_type": "code",
   "execution_count": null,
   "metadata": {},
   "outputs": [],
   "source": []
  },
  {
   "cell_type": "markdown",
   "metadata": {},
   "source": [
    "# Employment status"
   ]
  },
  {
   "cell_type": "code",
   "execution_count": 9,
   "metadata": {},
   "outputs": [],
   "source": [
    "recode_dict = {1:1, 2:2, 3:3, 4: 3, 5: 4, 6: 3}\n",
    "df[\"employStat\"] = df[\"pgemplst\"].map(recode_dict)"
   ]
  },
  {
   "cell_type": "code",
   "execution_count": 10,
   "metadata": {},
   "outputs": [
    {
     "data": {
      "text/plain": [
       "1    4287\n",
       "2    2049\n",
       "3     797\n",
       "4     424\n",
       "Name: employStat, dtype: int64"
      ]
     },
     "execution_count": 10,
     "metadata": {},
     "output_type": "execute_result"
    }
   ],
   "source": [
    "df[\"employStat\"].value_counts()"
   ]
  },
  {
   "cell_type": "markdown",
   "metadata": {},
   "source": [
    "# Political remove"
   ]
  },
  {
   "cell_type": "code",
   "execution_count": 11,
   "metadata": {},
   "outputs": [
    {
     "data": {
      "text/plain": [
       "-8    7557\n",
       "Name: plh0333, dtype: int64"
      ]
     },
     "execution_count": 11,
     "metadata": {},
     "output_type": "execute_result"
    }
   ],
   "source": [
    "df[\"plh0333\"].value_counts()"
   ]
  },
  {
   "cell_type": "code",
   "execution_count": 12,
   "metadata": {},
   "outputs": [],
   "source": [
    "df = df.drop(\"plh0333\",axis=1)\n"
   ]
  },
  {
   "cell_type": "markdown",
   "metadata": {},
   "source": [
    "# Income"
   ]
  },
  {
   "cell_type": "code",
   "execution_count": 13,
   "metadata": {},
   "outputs": [
    {
     "data": {
      "text/plain": [
       "(762, 42)"
      ]
     },
     "execution_count": 13,
     "metadata": {},
     "output_type": "execute_result"
    }
   ],
   "source": [
    "df[df.plb0471_v2 < 500].shape"
   ]
  },
  {
   "cell_type": "code",
   "execution_count": 14,
   "metadata": {},
   "outputs": [],
   "source": [
    "df = df[df.plb0471_v2 >= 500]"
   ]
  },
  {
   "cell_type": "code",
   "execution_count": 15,
   "metadata": {},
   "outputs": [
    {
     "data": {
      "text/plain": [
       "(6795, 42)"
      ]
     },
     "execution_count": 15,
     "metadata": {},
     "output_type": "execute_result"
    }
   ],
   "source": [
    "df.shape"
   ]
  },
  {
   "cell_type": "markdown",
   "metadata": {},
   "source": [
    "# BFI"
   ]
  },
  {
   "cell_type": "code",
   "execution_count": 16,
   "metadata": {},
   "outputs": [],
   "source": [
    "# (1) conscientiousness\n",
    "df[\"plh0218_rec\"] = df[\"plh0218\"].replace({1:7, 2:6, 3:5, 5:3, 6:2, 7:1})  # item needs to be recoded (in the direction of the personality trait)\n",
    "df[\"bfi_consc\"]   = df[[\"plh0212\", \"plh0218_rec\", \"plh0222\"]].mean(axis = 1)"
   ]
  },
  {
   "cell_type": "code",
   "execution_count": 17,
   "metadata": {},
   "outputs": [],
   "source": [
    "# (2) extraversion\n",
    "df[\"plh0223_rec\"] = df[\"plh0223\"].replace({1:7, 2:6, 3:5, 5:3, 6:2, 7:1})        # item needs to be recoded (in the direction of the personality trait)\n",
    "df[\"bfi_extrav\"]  = df[[\"plh0213\", \"plh0219\", \"plh0223_rec\"]].mean(axis = 1)"
   ]
  },
  {
   "cell_type": "code",
   "execution_count": 18,
   "metadata": {},
   "outputs": [],
   "source": [
    "# (3) agreeableness\n",
    "df[\"plh0214_rec\"] = df[\"plh0214\"].replace({1:7, 2:6, 3:5, 5:3, 6:2, 7:1})        # item needs to be recoded (in the direction of the personality trait)\n",
    "df[\"bfi_agree\"]   = df[[\"plh0214_rec\", \"plh0217\", \"plh0224\"]].mean(axis = 1)"
   ]
  },
  {
   "cell_type": "code",
   "execution_count": 19,
   "metadata": {},
   "outputs": [],
   "source": [
    "# (4) openness\n",
    "df[\"bfi_open\"]   = df[[\"plh0215\", \"plh0220\", \"plh0225\"]].mean(axis = 1)"
   ]
  },
  {
   "cell_type": "code",
   "execution_count": 20,
   "metadata": {},
   "outputs": [],
   "source": [
    "# (5) neuroticism\n",
    "df[\"plh0226_rec\"] = df[\"plh0226\"].replace({1:7, 2:6, 3:5, 5:3, 6:2, 7:1})        # item needs to be recoded (in the direction of the personality trait)\n",
    "df[\"bfi_neurot\"]  = df[[\"plh0216\", \"plh0221\", \"plh0226_rec\"]].mean(axis = 1)"
   ]
  },
  {
   "cell_type": "code",
   "execution_count": 21,
   "metadata": {},
   "outputs": [
    {
     "data": {
      "text/plain": [
       "51"
      ]
     },
     "execution_count": 21,
     "metadata": {},
     "output_type": "execute_result"
    }
   ],
   "source": [
    "len(df.columns)"
   ]
  },
  {
   "cell_type": "code",
   "execution_count": 22,
   "metadata": {},
   "outputs": [
    {
     "data": {
      "text/plain": [
       "Index(['pid', 'cid', 'hid', 'plj0433', 'plj0434', 'plj0435', 'plh0182',\n",
       "       'plh0176', 'plh0032', 'plh0033', 'plh0335', 'plh0336', 'plh0038',\n",
       "       'plh0040', 'plj0046', 'plj0047', 'plb0471_v2', 'plh0212', 'plh0213',\n",
       "       'plh0214', 'plh0215', 'plh0216', 'plh0217', 'plh0218', 'plh0219',\n",
       "       'plh0220', 'plh0221', 'plh0222', 'plh0223', 'plh0224', 'plh0225',\n",
       "       'plh0226', 'gebjahr', 'sex', 'migback', 'bula_ew', 'bula_h', 'pgemplst',\n",
       "       'pgbilzeit', 'age', 'bula', 'employStat', 'plh0218_rec', 'bfi_consc',\n",
       "       'plh0223_rec', 'bfi_extrav', 'plh0214_rec', 'bfi_agree', 'bfi_open',\n",
       "       'plh0226_rec', 'bfi_neurot'],\n",
       "      dtype='object')"
      ]
     },
     "execution_count": 22,
     "metadata": {},
     "output_type": "execute_result"
    }
   ],
   "source": [
    "df.columns"
   ]
  },
  {
   "cell_type": "markdown",
   "metadata": {},
   "source": [
    "# Data for analysis"
   ]
  },
  {
   "cell_type": "code",
   "execution_count": 23,
   "metadata": {},
   "outputs": [],
   "source": [
    "colForAnalysis = ['pid', 'cid', 'hid', 'plj0433',\n",
    "                  'age', 'sex','bula', 'employStat', 'pgbilzeit', 'plb0471_v2', 'migback',\n",
    "                  'plh0182', 'plh0176',\n",
    "                  'plh0032', 'plh0033', 'plh0335', 'plh0336', 'plh0038', 'plh0040', 'plj0046', 'plj0047',                  \n",
    "                  'plj0434', 'plj0435',\n",
    "                  'bfi_consc', 'bfi_extrav', 'bfi_agree', 'bfi_open', 'bfi_neurot']"
   ]
  },
  {
   "cell_type": "code",
   "execution_count": 24,
   "metadata": {},
   "outputs": [],
   "source": [
    "finalDataAnalysis = df[colForAnalysis]"
   ]
  },
  {
   "cell_type": "code",
   "execution_count": 24,
   "metadata": {},
   "outputs": [
    {
     "data": {
      "text/plain": [
       "(6795, 28)"
      ]
     },
     "execution_count": 24,
     "metadata": {},
     "output_type": "execute_result"
    }
   ],
   "source": [
    "finalDataAnalysis.shape"
   ]
  },
  {
   "cell_type": "code",
   "execution_count": 25,
   "metadata": {},
   "outputs": [],
   "source": [
    "#finalDataAnalysis.to_csv(\"dataForAnalysis.csv\", index = False)"
   ]
  },
  {
   "cell_type": "code",
   "execution_count": null,
   "metadata": {},
   "outputs": [],
   "source": []
  }
 ],
 "metadata": {
  "kernelspec": {
   "display_name": "Python 3",
   "language": "python",
   "name": "python3"
  },
  "language_info": {
   "codemirror_mode": {
    "name": "ipython",
    "version": 3
   },
   "file_extension": ".py",
   "mimetype": "text/x-python",
   "name": "python",
   "nbconvert_exporter": "python",
   "pygments_lexer": "ipython3",
   "version": "3.8.5"
  },
  "toc": {
   "base_numbering": 1,
   "nav_menu": {},
   "number_sections": true,
   "sideBar": true,
   "skip_h1_title": false,
   "title_cell": "Table of Contents",
   "title_sidebar": "Contents",
   "toc_cell": false,
   "toc_position": {
    "height": "calc(100% - 180px)",
    "left": "10px",
    "top": "150px",
    "width": "165px"
   },
   "toc_section_display": true,
   "toc_window_display": true
  }
 },
 "nbformat": 4,
 "nbformat_minor": 4
}
